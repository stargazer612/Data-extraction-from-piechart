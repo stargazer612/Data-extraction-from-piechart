{
 "cells": [
  {
   "cell_type": "code",
   "execution_count": 1,
   "id": "b9d1470b",
   "metadata": {},
   "outputs": [],
   "source": [
    "import os, shutil\n",
    "import numpy as np\n",
    "import pandas as pd\n",
    "import tensorflow as tf\n",
    "from PIL import Image\n",
    "from tensorflow.keras.models import Sequential, Model\n",
    "from tensorflow.keras.models import model_from_json\n",
    "from tensorflow.keras.preprocessing.image import ImageDataGenerator\n",
    "import cv2\n",
    "import numpy as np\n",
    "import matplotlib.pyplot as plt\n",
    "import colorama\n",
    "from colorama import Fore, Style"
   ]
  },
  {
   "cell_type": "code",
   "execution_count": 2,
   "id": "9469d2ff",
   "metadata": {},
   "outputs": [],
   "source": [
    "MAINPATH=\"C:/Users/Harshit/Downloads/PIeChart_Data_Extraction_C3/PIeChart_Data_Extraction/MINI-Project/MINI-Project\""
   ]
  },
  {
   "cell_type": "code",
   "execution_count": 3,
   "id": "8971ccba",
   "metadata": {},
   "outputs": [],
   "source": [
    "TEST_DIR = MAINPATH+ \"/test\"\n",
    "MODEL_DIR = MAINPATH+ \"/VGG-19\"\n",
    "OUTPUT_DIR = MAINPATH+ \"/barplots\"\n",
    "dir2= MAINPATH+ \"/piechart\"\n",
    "CSV=MAINPATH+\"/test.csv\""
   ]
  },
  {
   "cell_type": "code",
   "execution_count": 4,
   "id": "031eb65f",
   "metadata": {},
   "outputs": [
    {
     "name": "stdout",
     "output_type": "stream",
     "text": [
      "File already exist\n",
      "2.jpg\n",
      "3d4.png\n",
      "3n4.png\n",
      "chart2.png\n",
      "p.png\n",
      "pi.png\n"
     ]
    }
   ],
   "source": [
    "import os, csv\n",
    "if os.path.isfile(CSV):\n",
    "    print (\"File already exist\")\n",
    "    f = open(CSV, 'r+')\n",
    "    f.truncate(0)\n",
    "else:\n",
    "    print (\"File created\")\n",
    "    f=open(CSV,'a')\n",
    "w=csv.writer(f)\n",
    "w.writerow(\"c\")    \n",
    "for path, dirs, files in os.walk(TEST_DIR):\n",
    "    for filename in files:\n",
    "        print(filename)\n",
    "        w.writerow([filename])\n",
    "        \n",
    "f.close()"
   ]
  },
  {
   "cell_type": "code",
   "execution_count": 5,
   "id": "16772bb5",
   "metadata": {},
   "outputs": [
    {
     "name": "stdout",
     "output_type": "stream",
     "text": [
      "Found 6 validated image filenames.\n"
     ]
    }
   ],
   "source": [
    "testdf = pd.read_csv(CSV)\n",
    "\n",
    "test_datagen = ImageDataGenerator(rescale=1./255.)\n",
    "\n",
    "test_generator = test_datagen.flow_from_dataframe(\n",
    "    dataframe = testdf,\n",
    "    directory = TEST_DIR,\n",
    "    x_col = \"c\",\n",
    "    y_col = None,\n",
    "    batch_size = 1,\n",
    "    seed = 42,\n",
    "    shuffle = False,\n",
    "    class_mode = None,\n",
    "    target_size = (224, 224))"
   ]
  },
  {
   "cell_type": "code",
   "execution_count": 6,
   "id": "483ae432",
   "metadata": {},
   "outputs": [
    {
     "name": "stdout",
     "output_type": "stream",
     "text": [
      "Loaded model from disk\n"
     ]
    }
   ],
   "source": [
    "json_file = open(MODEL_DIR+ \"/model.json\", 'r')\n",
    "loaded_model_json = json_file.read()\n",
    "json_file.close()\n",
    "\n",
    "loaded_model = model_from_json(loaded_model_json)\n",
    "\n",
    "# load weights into new model\n",
    "loaded_model.load_weights(MODEL_DIR+ \"/model.h5\")\n",
    "print(\"Loaded model from disk\")"
   ]
  },
  {
   "cell_type": "code",
   "execution_count": 7,
   "id": "386abb4c",
   "metadata": {},
   "outputs": [
    {
     "name": "stdout",
     "output_type": "stream",
     "text": [
      "6/6 [==============================] - 3s 381ms/step\n"
     ]
    }
   ],
   "source": [
    "test_generator.reset()\n",
    "STEP_SIZE_TEST=test_generator.n // test_generator.batch_size\n",
    "\n",
    "pred = loaded_model.predict(test_generator,\n",
    "                            steps=STEP_SIZE_TEST,\n",
    "                            verbose=1)\n",
    "\n",
    "predicted_class_indices = np.argmax(pred, axis=1)"
   ]
  },
  {
   "cell_type": "code",
   "execution_count": 8,
   "id": "a06c79d0",
   "metadata": {},
   "outputs": [],
   "source": [
    "class_indices = {'AreaGraph': 0,\n",
    " 'BarGraph': 1,\n",
    " 'BoxPlot': 2,\n",
    " 'BubbleChart': 3,\n",
    " 'FlowChart': 4,\n",
    " 'LineGraph': 5,\n",
    " 'Map': 6,\n",
    " 'NetworkDiagram': 7,\n",
    " 'ParetoChart': 8,\n",
    " 'PieChart': 9,\n",
    " 'ScatterGraph': 10,\n",
    " 'TreeDiagram': 11,\n",
    " 'VennDiagram': 12}\n",
    "\n",
    "labels = class_indices\n",
    "labels = dict((v,k) for k,v in labels.items())\n",
    "predictions = [labels[k] for k in predicted_class_indices]\n",
    "\n",
    "filenames = test_generator.filenames\n",
    "results = pd.DataFrame({\"chart\": filenames, \"type\": predictions})"
   ]
  },
  {
   "cell_type": "code",
   "execution_count": 9,
   "id": "ec4ca6c4",
   "metadata": {},
   "outputs": [],
   "source": [
    "barplots = results.loc[results['type'] == 'BarGraph']\n",
    "barplotlist = barplots['chart'].tolist()"
   ]
  },
  {
   "cell_type": "code",
   "execution_count": 10,
   "id": "399d90c2",
   "metadata": {},
   "outputs": [],
   "source": [
    "piechart = results.loc[results['type'] == 'PieChart']\n",
    "piechartlist = piechart['chart'].tolist()"
   ]
  },
  {
   "cell_type": "code",
   "execution_count": 11,
   "id": "a87a23d8",
   "metadata": {},
   "outputs": [],
   "source": [
    "if not os.path.exists(OUTPUT_DIR):\n",
    "    os.mkdir(OUTPUT_DIR)\n",
    "    \n",
    "for file in os.listdir(TEST_DIR):\n",
    "    if file in barplotlist:\n",
    "        shutil.copy(os.path.join(TEST_DIR, file), OUTPUT_DIR)"
   ]
  },
  {
   "cell_type": "code",
   "execution_count": 12,
   "id": "73e40f48",
   "metadata": {},
   "outputs": [],
   "source": [
    "if not os.path.exists(dir2):\n",
    "    os.mkdir(dir2)\n",
    "    \n",
    "for file in os.listdir(TEST_DIR):\n",
    "    if file in piechartlist:\n",
    "        shutil.copy(os.path.join(TEST_DIR, file), dir2)"
   ]
  },
  {
   "cell_type": "code",
   "execution_count": 13,
   "id": "7e0536c4",
   "metadata": {},
   "outputs": [],
   "source": [
    "import webcolors\n",
    "import os, shutil\n",
    "import numpy as np\n",
    "import pandas as pd\n",
    "import tensorflow as tf\n",
    "from colorama import Fore, Style\n",
    "from PIL import Image\n",
    "import cv2\n",
    "import time\n",
    "start = time.time()\n",
    "def closest_colour(requested_colour):\n",
    "    min_colours = {}\n",
    "    for key, name in webcolors.CSS3_HEX_TO_NAMES.items():\n",
    "        r_c, g_c, b_c = webcolors.hex_to_rgb(key)\n",
    "        rd = (r_c - requested_colour[0]) ** 2\n",
    "        gd = (g_c - requested_colour[1]) ** 2\n",
    "        bd = (b_c - requested_colour[2]) ** 2\n",
    "        min_colours[(rd + gd + bd)] = name\n",
    "    return min_colours[min(min_colours.keys())]\n",
    "\n",
    "def get_colour_name(requested_colour):\n",
    "    try:\n",
    "        closest_name = actual_name = webcolors.rgb_to_name(requested_colour)\n",
    "    except ValueError:\n",
    "        closest_name = closest_colour(requested_colour)\n",
    "        actual_name = None\n",
    "    return actual_name, closest_name\n"
   ]
  },
  {
   "cell_type": "code",
   "execution_count": 14,
   "id": "02834a2b",
   "metadata": {},
   "outputs": [],
   "source": [
    "def colored(r, g, b, text):\n",
    "    return \"\\033[38;2;{};{};{}m{} \\033[38;2;255;255;255m\".format(r, g, b, text)\n"
   ]
  },
  {
   "cell_type": "code",
   "execution_count": 15,
   "id": "464738f1",
   "metadata": {
    "scrolled": true
   },
   "outputs": [],
   "source": [
    "import math \n",
    "def dis(x1,y1,x2,y2):\n",
    "   return math.sqrt((x1-x2)*(x1-x2)+(y1-y2)*(y1-y2))"
   ]
  },
  {
   "cell_type": "code",
   "execution_count": 16,
   "id": "fa9dd2e1",
   "metadata": {},
   "outputs": [],
   "source": [
    "import cv2\n",
    "def click_event(event, x, y, flags, params):\n",
    " \n",
    "    # checking for left mouse clicks\n",
    "    if event == cv2.EVENT_LBUTTONDOWN:\n",
    " \n",
    "        # displaying the coordinates\n",
    "        # on the Shell\n",
    "        global mp\n",
    "        mp = np.array([[np.float32(x)], [np.float32(y)]])\n",
    "        cv2.destroyAllWindows()"
   ]
  },
  {
   "cell_type": "code",
   "execution_count": 17,
   "id": "049d0c18",
   "metadata": {},
   "outputs": [],
   "source": [
    "def connected_component_label(path):\n",
    "    global mp\n",
    "    color=[]\n",
    "    mp = np.array((2, 1), np.float32)\n",
    "    # Getting the input image\n",
    "    img = cv2.imread(path, 0)\n",
    "    # Converting those pixels with values 1-127 to 0 and others to 1\n",
    "    img = cv2.threshold(img, 0, 255, cv2.THRESH_BINARY)[1]\n",
    "    connectivity = 8\n",
    "    output = cv2.connectedComponentsWithStats(img, connectivity, cv2.CV_32S)\n",
    "    num_labels = output[0]\n",
    "    #print(num_labels)\n",
    "    labels = output[1]\n",
    "    stats = output[2]\n",
    "    centroids =output[3]\n",
    "    cv2.imshow('Mark_center_of_piechart', img)\n",
    "    cv2.setMouseCallback('Mark_center_of_piechart', click_event)\n",
    "    \n",
    "    # wait for a key to be pressed to exit\n",
    "    cv2.waitKey(0)\n",
    "    xc=int(mp[0])\n",
    "    yc=int(mp[1])\n",
    "    sumn=0\n",
    "    count=0\n",
    "    mean=np. mean(centroids)\n",
    "    # print(centroids)\n",
    "    # print(mean)\n",
    "    x=np.array(output[2][1:,cv2.CC_STAT_AREA])\n",
    "    wx=np.array(output[2][1:,cv2.CC_STAT_WIDTH])\n",
    "    hx=np.array(output[2][1:,cv2.CC_STAT_HEIGHT])\n",
    "    tx=np.array(output[2][1:,cv2.CC_STAT_TOP])\n",
    "    lx=np.array(output[2][1:,cv2.CC_STAT_LEFT])\n",
    "    height=stats[0, cv2.CC_STAT_HEIGHT]/2.5\n",
    "    sum=0\n",
    "    sumx=0\n",
    "    sumy=0\n",
    "    src2=cv2.cvtColor(src, cv2.COLOR_RGB2BGR)\n",
    "    for idx,value in enumerate(x):\n",
    "      if idx==0 or value<100:\n",
    "        continue\n",
    "      #########\n",
    "      h=hx[idx]\n",
    "      w=wx[idx]\n",
    "      if w/3>h:\n",
    "        continue\n",
    "      xi=int(centroids[idx+1][0])\n",
    "      yi=int(centroids[idx+1][1])\n",
    "      ######\n",
    "      dist=dis(xc,yc,xi,yi)\n",
    "      sumn=sumn+dist\n",
    "      count=count+1\n",
    "    meann=sumn/count \n",
    "    cnt=0\n",
    "    for idx,value in enumerate(x):\n",
    "      if idx==0 or value<100:\n",
    "        continue\n",
    "      h=hx[idx]\n",
    "      w=wx[idx]\n",
    "      if w/3>h:\n",
    "        continue\n",
    "      xi=int(centroids[idx+1][0])\n",
    "      yi=int(centroids[idx+1][1])\n",
    "      # print(xi,\" \",yi)\n",
    "      sumx=sumx+xi\n",
    "      sumy=sumy+yi\n",
    "      d=dis(xi,yi,xc,yc)\n",
    "      #print(xi,yi,d,xc,yc)\n",
    "      if d<height:\n",
    "        cnt=cnt+1\n",
    "      else :\n",
    "        #print(\"3d\")\n",
    "        continue\n",
    "      sum=sum+value\n",
    "    cnt=0\n",
    "    for idx,value in enumerate(x):\n",
    "      if idx==0 or value<100:\n",
    "        continue\n",
    "      #########\n",
    "      h=hx[idx]\n",
    "      w=wx[idx]\n",
    "      if w/3>h:\n",
    "        continue\n",
    "      xi=int(centroids[idx+1][0])\n",
    "      yi=int(centroids[idx+1][1])\n",
    "      sumx=sumx+xi\n",
    "      sumy=sumy+yi\n",
    "      d=0\n",
    "      d=dis(xi,yi,xc,yc)\n",
    "      if d<height:\n",
    "        cnt=cnt+1\n",
    "      else :\n",
    "        continue\n",
    "      b = src2[yi,xi, 0]\n",
    "      g = src2[yi,xi, 1]\n",
    "      r = src2[yi,xi, 2]\n",
    "      color.append(tuple([r,g,b,xi,yi]))\n",
    "      requested_colour=[b,g,r]\n",
    "      actual_name, closest_name = get_colour_name(requested_colour)\n",
    "      colored_text=colored(b,g,r,closest_name);\n",
    "      print(colored_text,end=\" \")\n",
    "      print(Style.RESET_ALL,end=\"\")\n",
    "      print(\" Percentage : \",value/sum*100)\n",
    "    \n",
    "    # Map component labels to hue val, 0-179 is the hue range in OpenCV\n",
    "    label_hue = np.uint8(179*labels/np.max(labels))\n",
    "    blank_ch = 255*np.ones_like(label_hue)\n",
    "    labeled_img = cv2.merge([label_hue, blank_ch, blank_ch])\n",
    "\n",
    "    # Converting cvt to BGR\n",
    "    labeled_img = cv2.cvtColor(labeled_img, cv2.COLOR_HSV2BGR)\n",
    "\n",
    "    # set bg label to black\n",
    "    labeled_img[label_hue==0] = 0\n",
    "    \n",
    "    # Showing Original Image\n",
    "    plt.imshow(cv2.cvtColor(img, cv2.COLOR_BGR2RGB))\n",
    "    plt.axis(\"off\")\n",
    "    plt.title(\"Orginal Image\")\n",
    "    plt.show()\n",
    "    \n",
    "    #Showing Image after Component Labeling\n",
    "    for c in color:\n",
    "      nb = labeled_img[c[4],c[3], 2]\n",
    "      ng = labeled_img[c[4],c[3], 1]\n",
    "      nr = labeled_img[c[4],c[3], 0]\n",
    "      labeled_img[np.all(labeled_img==(nr,ng,nb),axis=-1)]=(c[0],c[1],c[2])\n",
    "    labeled_img=cv2.cvtColor(labeled_img, cv2.COLOR_BGR2RGB)\n",
    "    nb = labeled_img[2,2, 2]\n",
    "    ng = labeled_img[2,2, 1]\n",
    "    nr = labeled_img[2,2, 0]\n",
    "    labeled_img[np.all(labeled_img==(nr,ng,nb),axis=-1)]=(255,255,255)\n",
    "    labeled_img[np.all(labeled_img==(0,0,0),axis=-1)]=(255,255,255)\n",
    "    cv2.imwrite(MAINPATH+\"/labeled_output.png\",labeled_img)\n",
    "    plt.imshow(labeled_img)\n",
    "    plt.axis('off')\n",
    "    plt.title(\"Image after Component Labeling\")\n",
    "    plt.show()\n"
   ]
  },
  {
   "cell_type": "code",
   "execution_count": 18,
   "id": "f201ac34",
   "metadata": {},
   "outputs": [
    {
     "name": "stdout",
     "output_type": "stream",
     "text": [
      "C:/Users/Harshit/Downloads/PIeChart_Data_Extraction_C3/PIeChart_Data_Extraction/MINI-Project/MINI-Project/piechart/3d4.png\n"
     ]
    }
   ],
   "source": [
    "import cv2\n",
    "import numpy\n",
    "import glob\n",
    "print\n",
    "cv_img = []\n",
    "file=os.listdir(dir2)\n",
    "pattern = \"*.png , *.jpg\"\n",
    "img_path= dir2+\"/\"+file[1]\n",
    "print(img_path)\n",
    "src = cv2.imread(img_path, cv2.IMREAD_UNCHANGED)\n",
    "#cv2.imshow(\"v\",src)\n",
    "src = cv2.GaussianBlur(src, (3, 3), 0)"
   ]
  },
  {
   "cell_type": "code",
   "execution_count": 19,
   "id": "e68f5f51",
   "metadata": {},
   "outputs": [
    {
     "data": {
      "text/plain": [
       "True"
      ]
     },
     "execution_count": 19,
     "metadata": {},
     "output_type": "execute_result"
    }
   ],
   "source": [
    "import cv2\n",
    "import numpy as np\n",
    "from matplotlib import pyplot as plt\n",
    "img = cv2.cvtColor(src, cv2.COLOR_BGR2GRAY)\n",
    "lap = cv2.Laplacian(img, cv2.CV_64F, ksize=3)\n",
    "lap = np.uint8(np.absolute(lap))\n",
    "sobelX = cv2.Sobel(img, cv2.CV_64F, 0, 1)\n",
    "sobelY = cv2.Sobel(img, cv2.CV_64F, 1, 0)\n",
    "sobelX = np.uint8(np.absolute(sobelX))\n",
    "sobelY = np.uint8(np.absolute(sobelY))\n",
    "sobelCombined = cv2.bitwise_or(sobelX, sobelY)\n",
    "titles = ['image', 'Laplacian', 'sobelX', 'sobelY', 'sobelCombined']\n",
    "images = [img, lap, sobelX, sobelY, sobelCombined]\n",
    "cv2.imwrite(MAINPATH+\"/sobelcombined.png\",sobelCombined)"
   ]
  },
  {
   "cell_type": "code",
   "execution_count": 20,
   "id": "dc372ae9",
   "metadata": {},
   "outputs": [
    {
     "data": {
      "text/plain": [
       "True"
      ]
     },
     "execution_count": 20,
     "metadata": {},
     "output_type": "execute_result"
    }
   ],
   "source": [
    "_, thresh = cv2.threshold(sobelCombined,10,255,cv2.THRESH_BINARY) \n",
    "cv2.imwrite(MAINPATH+\"/threshed.png\",thresh)\n"
   ]
  },
  {
   "cell_type": "code",
   "execution_count": 21,
   "id": "6e56763a",
   "metadata": {},
   "outputs": [],
   "source": [
    "def undesired_objects (image):\n",
    "    image = image.astype('uint8')\n",
    "    nb_components, output, stats, centroids = cv2.connectedComponentsWithStats(image, connectivity=8)\n",
    "    sizes = stats[:, -1]\n",
    "\n",
    "    max_label = 1\n",
    "    max_size = sizes[1]\n",
    "    for i in range(2, nb_components):\n",
    "        if sizes[i] > max_size:\n",
    "            max_label = i\n",
    "            max_size = sizes[i]\n",
    "\n",
    "    img2 = np.zeros(output.shape)\n",
    "    img2[output == max_label] = 255\n",
    "    #cv2.imshow(\"Undesired_removed\",img2)\n",
    "    cv2.imwrite(MAINPATH+\"/undesired_removed.jpg\",img2)\n",
    "    \n",
    "    cv2.waitKey()\n",
    "    return img2"
   ]
  },
  {
   "cell_type": "code",
   "execution_count": 22,
   "id": "a5c5b567",
   "metadata": {},
   "outputs": [],
   "source": [
    "from skimage.morphology import skeletonize\n",
    "thinned=cv2.ximgproc.thinning(thresh,thinningType=cv2.ximgproc.THINNING_GUOHALL) \n",
    "#cv2.imshow(\"thinned\",thinned) \n",
    "kernel = cv2.getStructuringElement(cv2.MORPH_RECT, (3,3)) \n",
    "new=undesired_objects(thinned) \n",
    "#cv2.imshow(\"largest connected component\",new) \n",
    "dilate=cv2.dilate(new,kernel, iterations=1)\n",
    "#cv2.imshow(\"dilated\",dilate)\n",
    "cv2.imwrite(MAINPATH+\"/dilate.png\",dilate)\n",
    "ret, thresh2 = cv2.threshold(dilate, 150, 255, cv2.THRESH_BINARY_INV)\n",
    "#cv2.imshow(\"binary_inverted\",thresh2)\n",
    "cv2.imwrite(MAINPATH+\"/threshed.png\",thresh2)\n",
    "src_ = cv2.imread('new.png', cv2.IMREAD_UNCHANGED)"
   ]
  },
  {
   "cell_type": "code",
   "execution_count": 23,
   "id": "460b2c87",
   "metadata": {},
   "outputs": [
    {
     "name": "stdout",
     "output_type": "stream",
     "text": [
      "\u001b[38;2;165;38;165mdarkorchid \u001b[38;2;255;255;255m \u001b[0m Percentage :  9.940711462450592\n",
      "\u001b[38;2;99;130;215mcornflowerblue \u001b[38;2;255;255;255m \u001b[0m Percentage :  15.33596837944664\n",
      "\u001b[38;2;115;186;98mdarkseagreen \u001b[38;2;255;255;255m \u001b[0m Percentage :  24.150197628458496\n",
      "\u001b[38;2;211;53;1morangered \u001b[38;2;255;255;255m \u001b[0m Percentage :  20.968379446640316\n",
      "\u001b[38;2;247;152;0mdarkorange \u001b[38;2;255;255;255m \u001b[0m Percentage :  29.604743083003953\n"
     ]
    },
    {
     "data": {
      "image/png": "[encoded data removed]",
      "text/plain": [
       "<Figure size 432x288 with 1 Axes>"
      ]
     },
     "metadata": {
      "needs_background": "light"
     },
     "output_type": "display_data"
    },
    {
     "data": {
      "image/png": "[encoded data removed]",
      "text/plain": [
       "<Figure size 432x288 with 1 Axes>"
      ]
     },
     "metadata": {
      "needs_background": "light"
     },
     "output_type": "display_data"
    }
   ],
   "source": [
    "connected_component_label(MAINPATH+\"/threshed.png\")\n"
   ]
  },
  {
   "cell_type": "code",
   "execution_count": null,
   "id": "d7d815f9",
   "metadata": {},
   "outputs": [],
   "source": []
  }
 ],
 "metadata": {
  "kernelspec": {
   "display_name": "Python 3 (ipykernel)",
   "language": "python",
   "name": "python3"
  },
  "language_info": {
   "codemirror_mode": {
    "name": "ipython",
    "version": 3
   },
   "file_extension": ".py",
   "mimetype": "text/x-python",
   "name": "python",
   "nbconvert_exporter": "python",
   "pygments_lexer": "ipython3",
   "version": "3.9.7"
  }
 },
 "nbformat": 4,
 "nbformat_minor": 5
}
